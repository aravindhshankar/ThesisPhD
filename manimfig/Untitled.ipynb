{
 "cells": [
  {
   "cell_type": "code",
   "execution_count": 1,
   "id": "927e4060-0202-480b-b7e2-f3a0fea5e857",
   "metadata": {},
   "outputs": [
    {
     "name": "stderr",
     "output_type": "stream",
     "text": [
      "UsageError: Cell magic `%%manim` not found.\n"
     ]
    }
   ],
   "source": [
    "%%manim\n",
    "class BraceAnnotation(Scene):\n",
    "    def construct(self):\n",
    "        dot = Dot([-2, -1, 0])\n",
    "        dot2 = Dot([2, 1, 0])\n",
    "        line = Line(dot.get_center(), dot2.get_center()).set_color(ORANGE)\n",
    "        b1 = Brace(line)\n",
    "        b1text = b1.get_text(\"Horizontal distance\")\n",
    "        b2 = Brace(line, direction=line.copy().rotate(PI / 2).get_unit_vector())\n",
    "        b2text = b2.get_tex(\"x-x_1\")\n",
    "        self.add(line, dot, dot2, b1, b2, b1text, b2text)\n",
    "\n",
    "\n",
    "\n",
    "# don't remove below command for run button to work\n",
    "# %manim -qm -v WARNING BraceAnnotation"
   ]
  },
  {
   "cell_type": "code",
   "execution_count": null,
   "id": "91490d97-b4f5-4189-8fad-070d812b8354",
   "metadata": {},
   "outputs": [
    {
     "name": "stdout",
     "output_type": "stream",
     "text": [
      "Retrieving notices: ...working... done\n",
      "Collecting package metadata (current_repodata.json): / WARNING conda.models.version:get_matcher(546): Using .* with relational operator is superfluous and deprecated and will be removed in a future version of conda. Your spec was 1.7.1.*, but conda is ignoring the .* and treating it as 1.7.1\n",
      "done\n",
      "Solving environment: \\ \n",
      "The environment is inconsistent, please check the package plan carefully\n",
      "The following packages are causing the inconsistency:\n",
      "\n",
      "  - defaults/noarch::tifffile==2021.7.2=pyhd3eb1b0_2\n",
      "  - defaults/osx-64::h5py==3.7.0=py310h6c517f8_0\n",
      "  - defaults/osx-64::scrapy==2.8.0=py310hecd8cb5_0\n",
      "  - defaults/osx-64::scikit-image==0.19.3=py310hcec6c5f_1\n",
      "  - defaults/osx-64::imagecodecs==2021.8.26=py310hf5cf8d7_2\n",
      "  - defaults/osx-64::imbalanced-learn==0.10.1=py310hecd8cb5_0\n",
      "  - defaults/osx-64::pywavelets==1.4.1=py310h6c40b1e_0\n",
      "  - defaults/osx-64::twisted==22.2.0=py310hca72f7f_1\n",
      "  - defaults/osx-64::pytables==3.7.0=py310h59775c6_1\n",
      "  - defaults/osx-64::pytorch==1.12.1=cpu_py310h64f2f56_1\n",
      "  - defaults/osx-64::numba==0.56.4=py310h3ea8b11_0\n",
      "  - defaults/osx-64::holoviews==1.15.4=py310hecd8cb5_0\n",
      "  - defaults/osx-64::bcrypt==3.2.0=py310hca72f7f_1\n",
      "  - defaults/osx-64::contourpy==1.0.5=py310haf03e11_0\n",
      "  - defaults/osx-64::transformers==4.24.0=py310hecd8cb5_0\n",
      "  - defaults/osx-64::intake==0.6.7=py310hecd8cb5_0\n",
      "  - defaults/osx-64::seaborn==0.12.2=py310hecd8cb5_0\n",
      "  - defaults/osx-64::pandas==1.5.3=py310h3ea8b11_0\n",
      "  - defaults/osx-64::numexpr==2.8.4=py310he50c29a_0\n",
      "  - defaults/osx-64::patsy==0.5.3=py310hecd8cb5_0\n",
      "  - defaults/osx-64::scikit-learn==1.2.1=py310hcec6c5f_0\n",
      "  - defaults/osx-64::panel==0.14.3=py310hecd8cb5_0\n",
      "  - defaults/osx-64::xarray==2022.11.0=py310hecd8cb5_0\n",
      "  - defaults/osx-64::astropy==5.1=py310h4e76f89_0\n",
      "  - defaults/osx-64::datashader==0.14.4=py310hecd8cb5_0\n",
      "  - defaults/osx-64::numpy==1.23.5=py310he50c29a_0\n",
      "  - defaults/osx-64::bottleneck==1.3.5=py310h4e76f89_0\n",
      "  - defaults/osx-64::hvplot==0.8.2=py310hecd8cb5_0\n",
      "  - defaults/osx-64::bokeh==2.4.3=py310hecd8cb5_0\n",
      "  - defaults/osx-64::gensim==4.3.0=py310h3ea8b11_0\n",
      "  - defaults/osx-64::matplotlib==3.7.0=py310hecd8cb5_0\n",
      "  - defaults/osx-64::pyerfa==2.0.0=py310hca72f7f_0\n",
      "  - defaults/osx-64::imageio==2.26.0=py310hecd8cb5_0\n",
      "  - defaults/osx-64::statsmodels==0.13.5=py310h7b7cdfe_1\n",
      "  - defaults/osx-64::datashape==0.5.4=py310hecd8cb5_1\n",
      "  - defaults/osx-64::dask==2022.7.0=py310hecd8cb5_0\n",
      "failed with initial frozen solve. Retrying with flexible solve.\n",
      "Solving environment: \\ "
     ]
    }
   ],
   "source": [
    "! conda install manim"
   ]
  },
  {
   "cell_type": "code",
   "execution_count": null,
   "id": "85469207-f1c9-495d-8146-0858404c1a10",
   "metadata": {},
   "outputs": [],
   "source": []
  }
 ],
 "metadata": {
  "kernelspec": {
   "display_name": "Python 3 (ipykernel)",
   "language": "python",
   "name": "python3"
  },
  "language_info": {
   "codemirror_mode": {
    "name": "ipython",
    "version": 3
   },
   "file_extension": ".py",
   "mimetype": "text/x-python",
   "name": "python",
   "nbconvert_exporter": "python",
   "pygments_lexer": "ipython3",
   "version": "3.10.9"
  }
 },
 "nbformat": 4,
 "nbformat_minor": 5
}
